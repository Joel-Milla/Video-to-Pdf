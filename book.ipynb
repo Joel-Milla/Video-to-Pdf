{
 "cells": [
  {
   "cell_type": "code",
   "execution_count": 27,
   "id": "a6eabca9-798e-4460-bcd9-aceac3f2336c",
   "metadata": {},
   "outputs": [],
   "source": [
    "import cv2\n",
    "import matplotlib.pyplot as plt\n",
    "import os\n",
    "import numpy as np"
   ]
  },
  {
   "cell_type": "code",
   "execution_count": 3,
   "id": "03af3cd9-4914-48a2-aea6-2e8a4de5f973",
   "metadata": {},
   "outputs": [],
   "source": [
    "vidcap = cv2.VideoCapture('book.mp4')\n",
    "success,image = vidcap.read()\n",
    "count = 0\n",
    "while success:\n",
    "  cv2.imwrite(\"./frames/frame%d.jpg\" % count, image)     # save frame as JPEG file      \n",
    "  success,image = vidcap.read()\n",
    "  # print('Read a new frame: ', success)\n",
    "  count += 1"
   ]
  },
  {
   "cell_type": "code",
   "execution_count": null,
   "id": "9cdc5f9c-f9f4-441b-98fa-02b518a48c23",
   "metadata": {},
   "outputs": [],
   "source": [
    "def mse(imageA, imageB):\n",
    "\t# the 'Mean Squared Error' between the two images is the\n",
    "\t# sum of the squared difference between the two images;\n",
    "\t# NOTE: the two images must have the same dimension\n",
    "\terr = np.sum((imageA.astype(\"float\") - imageB.astype(\"float\")) ** 2)\n",
    "\terr /= float(imageA.shape[0] * imageA.shape[1])\n",
    "\t\n",
    "\t# return the MSE, the lower the error, the more \"similar\"\n",
    "\t# the two images are\n",
    "\treturn err"
   ]
  },
  {
   "cell_type": "code",
   "execution_count": 2,
   "id": "71c964e5-be0f-4927-a5eb-86964dc58abd",
   "metadata": {},
   "outputs": [],
   "source": [
    "def show_image(image, color=None):\n",
    "    fig = plt.figure(figsize=(22, 20))\n",
    "    ax = fig.add_subplot(111)\n",
    "    ax.imshow(image, cmap='gray')\n",
    "    plt.show()"
   ]
  },
  {
   "cell_type": "code",
   "execution_count": 38,
   "id": "32073ce8-bef1-4003-a3df-4206ba0f7c6d",
   "metadata": {},
   "outputs": [
    {
     "name": "stdout",
     "output_type": "stream",
     "text": [
      "145\n",
      "145\n",
      "145\n",
      "145\n",
      "[[ True  True  True ...  True  True  True]\n",
      " [ True  True  True ...  True  True  True]\n",
      " [ True  True  True ...  True  True  True]\n",
      " ...\n",
      " [ True  True  True ...  True  True  True]\n",
      " [ True  True  True ...  True  True  True]\n",
      " [ True  True  True ...  True  True  True]]\n",
      "\n",
      "other two\n",
      "144\n",
      "145\n",
      "144\n",
      "145\n",
      "[[ True  True  True ...  True  True  True]\n",
      " [ True  True  True ...  True  True  True]\n",
      " [ True  True  True ...  True  True  True]\n",
      " ...\n",
      " [ True  True  True ...  True  True  True]\n",
      " [ True  True  True ...  True  True  True]\n",
      " [ True  True  True ...  True  True  True]]\n",
      "\n",
      "other three\n",
      "144\n",
      "145\n",
      "144\n",
      "145\n",
      "[[ True  True  True ...  True  True  True]\n",
      " [ True  True  True ...  True  True  True]\n",
      " [ True  True  True ...  True  True  True]\n",
      " ...\n",
      " [ True  True  True ...  True  True  True]\n",
      " [ True  True  True ...  True  True  True]\n",
      " [ True  True  True ...  True  True  True]]\n"
     ]
    },
    {
     "data": {
      "text/plain": [
       "(1120, 920)"
      ]
     },
     "execution_count": 38,
     "metadata": {},
     "output_type": "execute_result"
    }
   ],
   "source": [
    "img = cv2.imread('./frames/frame141.jpg', 0)\n",
    "# show_image(img)\n",
    "print(img[10, 11])\n",
    "print(img[10, 902])\n",
    "img2 = cv2.imread('./frames/frame147.jpg', 0)\n",
    "print(img[10, 11])\n",
    "print(img[10, 902])\n",
    "print(img == img2)\n",
    "\n",
    "print()\n",
    "print('other two')\n",
    "img = cv2.imread('./frames/frame171.jpg', 0)\n",
    "# show_image(img)\n",
    "print(img[10, 11])\n",
    "print(img[10, 902])\n",
    "img2 = cv2.imread('./frames/frame178.jpg', 0)\n",
    "print(img[10, 11])\n",
    "print(img[10, 902])\n",
    "print(img == img2)\n",
    "\n",
    "print()\n",
    "print('other three')\n",
    "img = cv2.imread('./frames/frame197.jpg', 0)\n",
    "# show_image(img)\n",
    "print(img[10, 11])\n",
    "print(img[10, 902])\n",
    "img2 = cv2.imread('./frames/frame206.jpg', 0)\n",
    "print(img[10, 11])\n",
    "print(img[10, 902])\n",
    "print(img == img2)\n",
    "img.shape"
   ]
  },
  {
   "cell_type": "code",
   "execution_count": 31,
   "id": "f402eb02-f724-443b-9163-954839b2e3d7",
   "metadata": {},
   "outputs": [],
   "source": [
    "def load_images_from_folder(folder):\n",
    "    images = []\n",
    "    img = cv2.imread('./frames/frame0.jpg', 0)\n",
    "    images.append(img)\n",
    "    for count in range(7066):\n",
    "        img = cv2.imread(f'./frames/frame{count}.jpg', 0)\n",
    "        if img[10, 11] in range(120, 180) and img[10, 902] in range(120, 180) and not np.array_equal(images[-1],img):\n",
    "            images.append(img)\n",
    "    return images"
   ]
  },
  {
   "cell_type": "code",
   "execution_count": 32,
   "id": "7d9abd2c-1603-4ca2-9196-dbe6592bdc28",
   "metadata": {},
   "outputs": [],
   "source": [
    "images = load_images_from_folder('frames')"
   ]
  },
  {
   "cell_type": "code",
   "execution_count": 33,
   "id": "f1e18753-a6a5-4d66-beb3-92d2f38a3d1f",
   "metadata": {},
   "outputs": [],
   "source": [
    "for num in range(len(images)):\n",
    "    image = images[num]\n",
    "    cv2.imwrite(\"./book/img%d.jpg\" % num, image)"
   ]
  },
  {
   "cell_type": "code",
   "execution_count": 34,
   "id": "764a7684-8095-4312-a90c-b8e3257f31ee",
   "metadata": {},
   "outputs": [
    {
     "data": {
      "text/plain": [
       "False"
      ]
     },
     "execution_count": 34,
     "metadata": {},
     "output_type": "execute_result"
    }
   ],
   "source": [
    "np.array_equal(images[0],images[1])"
   ]
  },
  {
   "cell_type": "code",
   "execution_count": null,
   "id": "6807a19f-ee07-4db8-b1cb-f25b5486b773",
   "metadata": {},
   "outputs": [],
   "source": [
    "cap = cv2.VideoCapture('book.mp4') # series of image. this is meant to read all the frames rapidly, not for human to see\n",
    "\n",
    "if cap.isOpened() == False:\n",
    "    print('Error: File not found or Wrong')\n",
    "else:\n",
    "    frame_count = cap.get(cv2.CAP_PROP_FRAME_COUNT)\n",
    "    print(frame_count)\n",
    "\n",
    "print(\"Press 'q' for exiting the program\")\n",
    "while cap.isOpened(): # while capture is opened and is reading\n",
    "    ret, frame = cap.read()\n",
    "\n",
    "    if ret == True: # while still returning frames, then show frames and be able to break out\n",
    "    # gray = cv2.cvtColor(frame)\n",
    "        # time.sleep(1/30) # tell how many fps where recorderd, and delay so each frame is shown as they were recorded. useful only when you want to watch video\n",
    "        cv2.imshow('frame', frame)\n",
    "    \n",
    "        if cv2.waitKey(10) & 0xFF == ord('q'):\n",
    "            break\n",
    "    else: # but if show all frames, then break out of loop\n",
    "        break\n",
    "    \n",
    "cap.release()\n",
    "cv2.destroyAllWindows()"
   ]
  }
 ],
 "metadata": {
  "kernelspec": {
   "display_name": "Python 3 (ipykernel)",
   "language": "python",
   "name": "python3"
  },
  "language_info": {
   "codemirror_mode": {
    "name": "ipython",
    "version": 3
   },
   "file_extension": ".py",
   "mimetype": "text/x-python",
   "name": "python",
   "nbconvert_exporter": "python",
   "pygments_lexer": "ipython3",
   "version": "3.12.8"
  }
 },
 "nbformat": 4,
 "nbformat_minor": 5
}
