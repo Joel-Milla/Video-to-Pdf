{
 "cells": [
  {
   "cell_type": "markdown",
   "id": "1e0dc484-71d7-4917-915a-4f5181d0cdea",
   "metadata": {},
   "source": [
    "# Extracting video into Pdf\n",
    "This notebook purpose is to read a video of a book in pdf and then separating its pages into images and finally joinning them into a pdf. The video used in this example is an ebook, so recognizing different pages is relative easy"
   ]
  },
  {
   "cell_type": "markdown",
   "id": "2877d904-8972-4368-9f58-0723fcfbb777",
   "metadata": {},
   "source": [
    "Import modules needed"
   ]
  },
  {
   "cell_type": "code",
   "execution_count": 1,
   "id": "a6eabca9-798e-4460-bcd9-aceac3f2336c",
   "metadata": {},
   "outputs": [],
   "source": [
    "import cv2\n",
    "import matplotlib.pyplot as plt\n",
    "import numpy as np"
   ]
  },
  {
   "cell_type": "markdown",
   "id": "e9587849-43bc-4600-84b7-9bee8e878cea",
   "metadata": {},
   "source": [
    "## Functions"
   ]
  },
  {
   "cell_type": "markdown",
   "id": "615f76fe-c046-4994-a131-56dc6df9356d",
   "metadata": {},
   "source": [
    "Function to show an specific image"
   ]
  },
  {
   "cell_type": "code",
   "execution_count": 2,
   "id": "71c964e5-be0f-4927-a5eb-86964dc58abd",
   "metadata": {},
   "outputs": [],
   "source": [
    "def show_image(image, color=None):\n",
    "    fig = plt.figure(figsize=(22, 20))\n",
    "    ax = fig.add_subplot(111)\n",
    "    ax.imshow(image, cmap='gray')\n",
    "    plt.show()"
   ]
  },
  {
   "cell_type": "markdown",
   "id": "40ad6ba8-726c-492f-b3f7-f8fafeb9133e",
   "metadata": {},
   "source": [
    "The next image obtains the video that is stored in mp4 format and separates each frame into images and save them"
   ]
  },
  {
   "cell_type": "code",
   "execution_count": 3,
   "id": "03af3cd9-4914-48a2-aea6-2e8a4de5f973",
   "metadata": {},
   "outputs": [],
   "source": [
    "def video_to_frames_of(video, in_directory):\n",
    "    vidcap = cv2.VideoCapture(video)\n",
    "    success,image = vidcap.read()\n",
    "    count = 0\n",
    "    while success:\n",
    "      cv2.imwrite(f\"{in_directory}/frame{count}.jpg\", image)     # save frame as JPEG file      \n",
    "      success,image = vidcap.read()\n",
    "      # print('Read a new frame: ', success)\n",
    "      count += 1"
   ]
  },
  {
   "cell_type": "markdown",
   "id": "bfe2c45b-2f80-4d48-8436-973e7cdaa85e",
   "metadata": {},
   "source": [
    "This function shows the video for a human to see"
   ]
  },
  {
   "cell_type": "code",
   "execution_count": 4,
   "id": "4d81388e-5935-4b09-9597-841dc4c62158",
   "metadata": {},
   "outputs": [],
   "source": [
    "def watch_video_in(directory):\n",
    "    cap = cv2.VideoCapture(directory) # series of image. this is meant to read all the frames rapidly, not for human to see\n",
    "    if cap.isOpened() == False:\n",
    "        print('Error: File not found or Wrong')\n",
    "    else:\n",
    "        frame_count = cap.get(cv2.CAP_PROP_FRAME_COUNT)\n",
    "        print(frame_count)\n",
    "    \n",
    "    print(\"Press 'q' for exiting the program\")\n",
    "    while cap.isOpened(): # while capture is opened and is reading\n",
    "        ret, frame = cap.read()\n",
    "    \n",
    "        if ret == True: # while still returning frames, then show frames and be able to break out\n",
    "        # gray = cv2.cvtColor(frame)\n",
    "            # time.sleep(1/30) # tell how many fps where recorderd, and delay so each frame is shown as they were recorded. useful only when you want to watch video\n",
    "            cv2.imshow('frame', frame)\n",
    "        \n",
    "            if cv2.waitKey(10) & 0xFF == ord('q'):\n",
    "                break\n",
    "        else: # but if show all frames, then break out of loop\n",
    "            break\n",
    "        \n",
    "    cap.release()\n",
    "    cv2.destroyAllWindows()"
   ]
  },
  {
   "cell_type": "markdown",
   "id": "35001143-a524-4c29-b92a-7b69bd07792f",
   "metadata": {},
   "source": [
    "This function reads all the frames stored in the previous folder and returns an array with all the images stored."
   ]
  },
  {
   "cell_type": "code",
   "execution_count": 39,
   "id": "f402eb02-f724-443b-9163-954839b2e3d7",
   "metadata": {},
   "outputs": [],
   "source": [
    "import glob\n",
    "from functools import cmp_to_key\n",
    "\n",
    "def custom_sort_function(fileA, fileB):\n",
    "    start_indx_a = -1\n",
    "    start_indx_b = -1\n",
    "    for indx, char in enumerate(fileA):\n",
    "        if char.isdigit():\n",
    "            start_indx_a = indx\n",
    "            break\n",
    "            \n",
    "    for indx, char in enumerate(fileB):\n",
    "        if char.isdigit():\n",
    "            start_indx_b = indx\n",
    "            break\n",
    "                        \n",
    "    end_indx_fileA = fileA.find('.')\n",
    "    end_indx_fileB = fileB.find('.')\n",
    "\n",
    "    num_file_a = int(fileA[start_indx_a:end_indx_fileA])\n",
    "    num_file_b = int(fileB[start_indx_b:end_indx_fileB])\n",
    "\n",
    "    if (num_file_a < num_file_b):\n",
    "        return -1\n",
    "    else:\n",
    "        return 1\n",
    "\n",
    "def load_images_from(folder):\n",
    "    images = []\n",
    "    files = glob.glob(f\"{folder}/*.jpg\") # obtain list of all the files that match this pattern (ending with jpg)\n",
    "    sorted_files = sorted(files, key=cmp_to_key(custom_sort_function))\n",
    "    \n",
    "    for file in sorted_files:\n",
    "        img = cv2.imread(file, 0) # read them on gray scales\n",
    "        images.append(img)\n",
    "    return images\n",
    "    "
   ]
  },
  {
   "cell_type": "markdown",
   "id": "8b7be386-d95d-43eb-82bb-4ecdc0c56ef7",
   "metadata": {},
   "source": [
    "Now, obtaining an array of images, save those images in the folder for analysis"
   ]
  },
  {
   "cell_type": "code",
   "execution_count": 28,
   "id": "1384e34f-318f-46e9-b640-35a4374b3831",
   "metadata": {},
   "outputs": [],
   "source": [
    "import os\n",
    "import shutil\n",
    "\n",
    "def save(images, in_directory):\n",
    "    dirname = in_directory\n",
    "\n",
    "    # Remove and recreate folder\n",
    "    if os.path.exists(dirname):\n",
    "        shutil.rmtree(dirname)\n",
    "    os.makedirs(dirname)\n",
    "\n",
    "    for num in range(len(images)):\n",
    "        image = images[num]\n",
    "        cv2.imwrite(f\"./{dirname}/img{num}.jpg\", image)"
   ]
  },
  {
   "cell_type": "markdown",
   "id": "dc85ea57-9f83-4548-89ea-e1cc85dc3aab",
   "metadata": {},
   "source": [
    "One way of comparing images is using mean squared error by each pixel. A zero result should tell that two images are similar but this is not always the case. We will leave this function and test it afterwards. Here, we implement it manually but scikit learn has an implementation of the algorithm"
   ]
  },
  {
   "cell_type": "code",
   "execution_count": 7,
   "id": "5e0011a8-b177-4e7f-a34c-ebdd936e5642",
   "metadata": {},
   "outputs": [],
   "source": [
    "def mse(imageA, imageB):\n",
    "    num_elements = imageA.size # obtain total amount of elements in the image\n",
    "    \n",
    "    squared_error = (imageA - imageB) ** 2 # obtain the difference between each value and squared it\n",
    "    total_squared_error = np.sum(squared_error)\n",
    "    mse = total_squared_error / num_elements\n",
    "\n",
    "    return mse"
   ]
  },
  {
   "cell_type": "markdown",
   "id": "0ac3bf83-11b0-4f37-987a-0b57676f6c05",
   "metadata": {},
   "source": [
    "The Structural Similarity Index, developed by Wang et al, focuses on comparing sub-samples of the image to compare the structure of each image. \n",
    "\n",
    "Parameters\n",
    "- (x, y) location of the NXN window\n",
    "- mean of the pixel intensity in xy direction\n",
    "- variance of intensities in the xy direction\n",
    "- covariance\n",
    "\n",
    "Use scikit learn implementation"
   ]
  },
  {
   "cell_type": "code",
   "execution_count": 12,
   "id": "9aea6c66-f508-46fe-abe8-16c673720f70",
   "metadata": {},
   "outputs": [],
   "source": [
    "from skimage.metrics import structural_similarity as ssim"
   ]
  },
  {
   "cell_type": "code",
   "execution_count": 13,
   "id": "c9891bc9-de01-455e-b5a0-2626b2b183d3",
   "metadata": {},
   "outputs": [],
   "source": [
    "def using_ssmi_compare(images):\n",
    "    unique_imgs = [] # array that will store all unique images\n",
    "    unique_imgs.append(images[0])\n",
    "    \n",
    "    for indx in range(1, len(images)): # start on image 1\n",
    "        image = images[indx]\n",
    "        prev_image = images[indx - 1]\n",
    "        diff = ssim(image, prev_image) # compare structural similarity between current and previous image\n",
    "        different_images = diff < 0.9\n",
    "\n",
    "        if different_images:\n",
    "            unique_imgs.append(image)\n",
    "            \n",
    "    return unique_imgs"
   ]
  },
  {
   "cell_type": "markdown",
   "id": "f923e549-c0f1-4b1d-8ab8-6e400f373ab2",
   "metadata": {},
   "source": [
    "## Implementation"
   ]
  },
  {
   "cell_type": "markdown",
   "id": "4ef041ec-236c-4578-b097-12c9f613d8da",
   "metadata": {},
   "source": [
    "Load the iamges from the folder frames which contains all the frames from the video book.mp4"
   ]
  },
  {
   "cell_type": "code",
   "execution_count": 9,
   "id": "7d9abd2c-1603-4ca2-9196-dbe6592bdc28",
   "metadata": {},
   "outputs": [],
   "source": [
    "images = load_images_from('frames') # load all the images into the array, without distiction"
   ]
  },
  {
   "cell_type": "code",
   "execution_count": 14,
   "id": "243caf90-a6d6-4c9a-b96f-85b70c47f268",
   "metadata": {},
   "outputs": [],
   "source": [
    "unique_imgs = using_ssmi_compare(images) # Obtain an array of the unique images that are compared using the structural similarity index"
   ]
  },
  {
   "cell_type": "code",
   "execution_count": 16,
   "id": "764a7684-8095-4312-a90c-b8e3257f31ee",
   "metadata": {},
   "outputs": [],
   "source": [
    "# save(unique_imgs, in_directory='frames_ssmi') # save the images into the folder\n",
    "save(unique_imgs, in_directory='frames_ssmi') # save the images into the folder"
   ]
  },
  {
   "cell_type": "markdown",
   "id": "634644e1-3d4a-40e1-96f4-267283f66683",
   "metadata": {},
   "source": [
    "## Further clean the images\n",
    "Now lets clean more the structure of the folder with the images frames_ssmi. We now have unique images in the folder"
   ]
  },
  {
   "cell_type": "code",
   "execution_count": 31,
   "id": "b15f6970-81a8-44d6-b9b9-93214e089a3f",
   "metadata": {},
   "outputs": [],
   "source": [
    "def separate_images_using_strict_borders_of(folder_images):\n",
    "    images = []\n",
    "    images.append(folder_images[0])    \n",
    "    for img in folder_images:\n",
    "        have_left_border = img[10, 11] in range(120, 180)\n",
    "        have_right_border = img[10, 902] in range(120, 180)\n",
    "        same_image_than_previous = np.array_equal(images[-1],img)\n",
    "        \n",
    "        if  have_left_border and have_right_border and not same_image_than_previous:\n",
    "            images.append(img)\n",
    "    return images"
   ]
  },
  {
   "cell_type": "code",
   "execution_count": 32,
   "id": "adb0a851-dc03-4eda-ac58-d5519422aa38",
   "metadata": {},
   "outputs": [],
   "source": [
    "# images = load_images_from('frames_ssmi') # load all the images that were processed after doing ssmi\n",
    "ssmi_images = load_images_from('frames_ssmi')"
   ]
  },
  {
   "cell_type": "code",
   "execution_count": null,
   "id": "2d702683-b0fe-49b2-90e5-5133d578c590",
   "metadata": {},
   "outputs": [],
   "source": [
    "uniq_images = separate_images_using_strict_borders_of(ssmi_images)"
   ]
  },
  {
   "cell_type": "code",
   "execution_count": 35,
   "id": "88160966-4961-4c22-834f-c4c86cdd819c",
   "metadata": {},
   "outputs": [],
   "source": [
    "save(uniq_images, in_directory='strict_borders') # save the images into the folder"
   ]
  },
  {
   "cell_type": "markdown",
   "id": "463e4ef5-856c-4777-9458-a913092c8a66",
   "metadata": {},
   "source": [
    "## Create PDF\n",
    "Now, we will use the images that were filtered and join all into a pdf that will contain all the book."
   ]
  },
  {
   "cell_type": "code",
   "execution_count": 40,
   "id": "00961d22-4dfb-4c8f-87d1-fb92f4718d67",
   "metadata": {},
   "outputs": [],
   "source": [
    "def load_files_directory(folder):\n",
    "    files = glob.glob(f\"{folder}/*.jpg\") # obtain list of all the files that match this pattern (ending with jpg)\n",
    "    sorted_files = sorted(files, key=cmp_to_key(custom_sort_function))\n",
    "    \n",
    "    return sorted_files # files directory"
   ]
  },
  {
   "cell_type": "markdown",
   "id": "b09fdae0-39b4-44bd-8091-482397612666",
   "metadata": {},
   "source": [
    "Obtain all the images of the book into a single array"
   ]
  },
  {
   "cell_type": "code",
   "execution_count": 43,
   "id": "9e67f40a-7c02-4d99-859c-5e4bd39be42d",
   "metadata": {},
   "outputs": [],
   "source": [
    "from PIL import Image\n",
    "\n",
    "# obtain all file from files that are returned from the function\n",
    "images = [\n",
    "    Image.open(file)\n",
    "    for file in load_files_directory('strict_borders')\n",
    "]\n",
    "cover = Image.open('./cover/cover.jpeg') # add the cover to the start of the array\n",
    "images.insert(0, cover)"
   ]
  },
  {
   "cell_type": "code",
   "execution_count": 44,
   "id": "4fed6460-41bd-4d40-ab48-4ed29d4569af",
   "metadata": {},
   "outputs": [],
   "source": [
    "pdf_path = \"./book.pdf\" # path to the pf\n",
    "\n",
    "# save all the images on a pdf\n",
    "images[0].save(\n",
    "    pdf_path, \"PDF\" ,resolution=100.0, save_all=True, append_images=images[1:]\n",
    ")"
   ]
  },
  {
   "cell_type": "code",
   "execution_count": null,
   "id": "a3eeb894-85b6-4303-8b39-576e26388ba9",
   "metadata": {},
   "outputs": [],
   "source": []
  }
 ],
 "metadata": {
  "kernelspec": {
   "display_name": "Python 3 (ipykernel)",
   "language": "python",
   "name": "python3"
  },
  "language_info": {
   "codemirror_mode": {
    "name": "ipython",
    "version": 3
   },
   "file_extension": ".py",
   "mimetype": "text/x-python",
   "name": "python",
   "nbconvert_exporter": "python",
   "pygments_lexer": "ipython3",
   "version": "3.12.8"
  }
 },
 "nbformat": 4,
 "nbformat_minor": 5
}
